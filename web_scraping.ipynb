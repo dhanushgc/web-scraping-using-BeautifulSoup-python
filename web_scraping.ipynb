{
 "cells": [
  {
   "cell_type": "code",
   "execution_count": 2,
   "metadata": {},
   "outputs": [],
   "source": [
    "from requests import get\n",
    "from bs4 import BeautifulSoup"
   ]
  },
  {
   "cell_type": "code",
   "execution_count": 3,
   "metadata": {},
   "outputs": [
    {
     "name": "stdout",
     "output_type": "stream",
     "text": [
      "\n",
      "\n",
      "\n",
      "<!DOCTYPE html>\n",
      "<html\n",
      "    xmlns:og=\"http://ogp.me/ns#\"\n",
      "    xmlns:fb=\"http://www.facebook.com/2008/fbml\">\n",
      "    <head>\n",
      "         \n",
      "        <meta charset=\"utf-8\">\n",
      "        <meta http-equiv=\"X-UA-Compatible\" content=\"IE=edge\">\n",
      "\n",
      "    <meta name=\"apple-itunes-app\" content=\"app-id=342792525, app-argument=imdb:///?src=mdot\">\n",
      "\n",
      "\n",
      "\n",
      "        <script type=\"text/javascript\">var IMDbTimer={starttime: new Date().getTime(),pt:'java'};</script>\n",
      "\n",
      "<script>\n",
      "    if (typeof uet == 'function') {\n",
      "      uet(\"bb\", \"LoadTitle\"\n"
     ]
    }
   ],
   "source": [
    "url = \"https://www.imdb.com/search/title/?release_date=2019-01-01,2020-12-31\"\n",
    "response = get(url)\n",
    "print(response.text[:500])"
   ]
  },
  {
   "cell_type": "code",
   "execution_count": 8,
   "metadata": {},
   "outputs": [
    {
     "data": {
      "text/plain": [
       "bs4.BeautifulSoup"
      ]
     },
     "execution_count": 8,
     "metadata": {},
     "output_type": "execute_result"
    }
   ],
   "source": [
    "html_soup = BeautifulSoup(response.text,'html.parser')\n",
    "type(html_soup)"
   ]
  },
  {
   "cell_type": "code",
   "execution_count": 21,
   "metadata": {},
   "outputs": [
    {
     "name": "stdout",
     "output_type": "stream",
     "text": [
      "50\n",
      "<class 'bs4.element.ResultSet'>\n"
     ]
    }
   ],
   "source": [
    "movie_container = html_soup.find_all('div', class_='lister-item mode-advanced')\n",
    "print(len(movie_container))\n",
    "print(type(movie_container))\n"
   ]
  },
  {
   "cell_type": "code",
   "execution_count": 23,
   "metadata": {},
   "outputs": [
    {
     "data": {
      "text/plain": [
       "'The Invisible Man'"
      ]
     },
     "execution_count": 23,
     "metadata": {},
     "output_type": "execute_result"
    }
   ],
   "source": [
    "first_movie = movie_container[0]\n",
    "first_movie.h3.a.text"
   ]
  },
  {
   "cell_type": "code",
   "execution_count": 34,
   "metadata": {},
   "outputs": [
    {
     "data": {
      "text/plain": [
       "'(2020)'"
      ]
     },
     "execution_count": 34,
     "metadata": {},
     "output_type": "execute_result"
    }
   ],
   "source": [
    "first_year = first_movie.h3.find('span', class_= 'lister-item-year text-muted unbold')\n",
    "first_year = first_year.text\n",
    "first_year"
   ]
  },
  {
   "cell_type": "code",
   "execution_count": 44,
   "metadata": {},
   "outputs": [
    {
     "data": {
      "text/plain": [
       "7.5"
      ]
     },
     "execution_count": 44,
     "metadata": {},
     "output_type": "execute_result"
    }
   ],
   "source": [
    "first_imbdrating = float(first_movie.strong.text)\n",
    "first_imbdrating"
   ]
  },
  {
   "cell_type": "code",
   "execution_count": 47,
   "metadata": {},
   "outputs": [
    {
     "data": {
      "text/plain": [
       "71"
      ]
     },
     "execution_count": 47,
     "metadata": {},
     "output_type": "execute_result"
    }
   ],
   "source": [
    "first_mscore = first_movie.find('span', class_ = 'metascore favorable')\n",
    "first_mscore = int(first_mscore.text)\n",
    "first_mscore\n"
   ]
  },
  {
   "cell_type": "code",
   "execution_count": 54,
   "metadata": {},
   "outputs": [
    {
     "data": {
      "text/plain": [
       "<span data-value=\"24082\" name=\"nv\">24,082</span>"
      ]
     },
     "execution_count": 54,
     "metadata": {},
     "output_type": "execute_result"
    }
   ],
   "source": [
    "first_votes = first_movie.find('span', attrs = {'name':'nv'})\n",
    "first_votes"
   ]
  },
  {
   "cell_type": "code",
   "execution_count": 55,
   "metadata": {},
   "outputs": [
    {
     "data": {
      "text/plain": [
       "'24082'"
      ]
     },
     "execution_count": 55,
     "metadata": {},
     "output_type": "execute_result"
    }
   ],
   "source": [
    "first_votes['data-value']"
   ]
  },
  {
   "cell_type": "code",
   "execution_count": 56,
   "metadata": {},
   "outputs": [
    {
     "data": {
      "text/plain": [
       "24082"
      ]
     },
     "execution_count": 56,
     "metadata": {},
     "output_type": "execute_result"
    }
   ],
   "source": [
    "first_votes = int(first_votes['data-value'])\n",
    "first_votes"
   ]
  },
  {
   "cell_type": "code",
   "execution_count": 61,
   "metadata": {},
   "outputs": [],
   "source": [
    "names = []\n",
    "years = []\n",
    "imdb_ratings = []\n",
    "metascores = []\n",
    "votes = []\n",
    "# Extract data from individual movie container\n",
    "for container in movie_container:\n",
    "# If the movie has Metascore, then extract:\n",
    " if container.find('div', class_ = 'ratings-metascore') is not None:\n",
    "# The name\n",
    "    name = container.h3.a.text\n",
    "    names.append(name)\n",
    "# The year\n",
    "    year = container.h3.find('span', class_ = 'lister-item-year').text\n",
    "    years.append(year)\n",
    "# The IMDB rating\n",
    "    imdb = float(container.strong.text)\n",
    "    imdb_ratings.append(imdb)\n",
    "# The Metascore\n",
    "    m_score = container.find('span', class_ = 'metascore').text\n",
    "    metascores.append(int(m_score))\n",
    "# The number of votes\n",
    "    vote = container.find('span', attrs = {'name':'nv'})['data-value']\n",
    "    votes.append(int(vote))"
   ]
  },
  {
   "cell_type": "code",
   "execution_count": 63,
   "metadata": {},
   "outputs": [
    {
     "data": {
      "text/html": [
       "<div>\n",
       "<style scoped>\n",
       "    .dataframe tbody tr th:only-of-type {\n",
       "        vertical-align: middle;\n",
       "    }\n",
       "\n",
       "    .dataframe tbody tr th {\n",
       "        vertical-align: top;\n",
       "    }\n",
       "\n",
       "    .dataframe thead th {\n",
       "        text-align: right;\n",
       "    }\n",
       "</style>\n",
       "<table border=\"1\" class=\"dataframe\">\n",
       "  <thead>\n",
       "    <tr style=\"text-align: right;\">\n",
       "      <th></th>\n",
       "      <th>movie</th>\n",
       "      <th>year</th>\n",
       "      <th>imdb</th>\n",
       "      <th>metascore</th>\n",
       "      <th>votes</th>\n",
       "    </tr>\n",
       "  </thead>\n",
       "  <tbody>\n",
       "    <tr>\n",
       "      <th>0</th>\n",
       "      <td>The Invisible Man</td>\n",
       "      <td>(2020)</td>\n",
       "      <td>7.5</td>\n",
       "      <td>71</td>\n",
       "      <td>24082</td>\n",
       "    </tr>\n",
       "    <tr>\n",
       "      <th>1</th>\n",
       "      <td>Knives Out</td>\n",
       "      <td>(2019)</td>\n",
       "      <td>8.0</td>\n",
       "      <td>82</td>\n",
       "      <td>213659</td>\n",
       "    </tr>\n",
       "    <tr>\n",
       "      <th>2</th>\n",
       "      <td>Gisaengchung</td>\n",
       "      <td>(2019)</td>\n",
       "      <td>8.6</td>\n",
       "      <td>96</td>\n",
       "      <td>303555</td>\n",
       "    </tr>\n",
       "    <tr>\n",
       "      <th>3</th>\n",
       "      <td>Spenser Confidential</td>\n",
       "      <td>(2020)</td>\n",
       "      <td>6.3</td>\n",
       "      <td>48</td>\n",
       "      <td>13140</td>\n",
       "    </tr>\n",
       "    <tr>\n",
       "      <th>4</th>\n",
       "      <td>Onward</td>\n",
       "      <td>(I) (2020)</td>\n",
       "      <td>7.7</td>\n",
       "      <td>61</td>\n",
       "      <td>7729</td>\n",
       "    </tr>\n",
       "    <tr>\n",
       "      <th>5</th>\n",
       "      <td>Sonic the Hedgehog</td>\n",
       "      <td>(2020)</td>\n",
       "      <td>6.7</td>\n",
       "      <td>47</td>\n",
       "      <td>27746</td>\n",
       "    </tr>\n",
       "    <tr>\n",
       "      <th>6</th>\n",
       "      <td>Guns Akimbo</td>\n",
       "      <td>(2019)</td>\n",
       "      <td>6.5</td>\n",
       "      <td>45</td>\n",
       "      <td>9029</td>\n",
       "    </tr>\n",
       "    <tr>\n",
       "      <th>7</th>\n",
       "      <td>Birds of Prey: And the Fantabulous Emancipatio...</td>\n",
       "      <td>(2020)</td>\n",
       "      <td>6.5</td>\n",
       "      <td>60</td>\n",
       "      <td>58668</td>\n",
       "    </tr>\n",
       "    <tr>\n",
       "      <th>8</th>\n",
       "      <td>Jojo Rabbit</td>\n",
       "      <td>(2019)</td>\n",
       "      <td>8.0</td>\n",
       "      <td>58</td>\n",
       "      <td>155541</td>\n",
       "    </tr>\n",
       "    <tr>\n",
       "      <th>9</th>\n",
       "      <td>Emma.</td>\n",
       "      <td>(2020)</td>\n",
       "      <td>7.0</td>\n",
       "      <td>71</td>\n",
       "      <td>4138</td>\n",
       "    </tr>\n",
       "    <tr>\n",
       "      <th>10</th>\n",
       "      <td>All the Bright Places</td>\n",
       "      <td>(2020)</td>\n",
       "      <td>6.5</td>\n",
       "      <td>61</td>\n",
       "      <td>6570</td>\n",
       "    </tr>\n",
       "    <tr>\n",
       "      <th>11</th>\n",
       "      <td>The Gentlemen</td>\n",
       "      <td>(2020)</td>\n",
       "      <td>8.1</td>\n",
       "      <td>51</td>\n",
       "      <td>49290</td>\n",
       "    </tr>\n",
       "    <tr>\n",
       "      <th>12</th>\n",
       "      <td>Jumanji: The Next Level</td>\n",
       "      <td>(2019)</td>\n",
       "      <td>6.8</td>\n",
       "      <td>58</td>\n",
       "      <td>99349</td>\n",
       "    </tr>\n",
       "    <tr>\n",
       "      <th>13</th>\n",
       "      <td>1917</td>\n",
       "      <td>(2019)</td>\n",
       "      <td>8.4</td>\n",
       "      <td>78</td>\n",
       "      <td>211061</td>\n",
       "    </tr>\n",
       "    <tr>\n",
       "      <th>14</th>\n",
       "      <td>Uncut Gems</td>\n",
       "      <td>(2019)</td>\n",
       "      <td>7.6</td>\n",
       "      <td>90</td>\n",
       "      <td>117077</td>\n",
       "    </tr>\n",
       "    <tr>\n",
       "      <th>15</th>\n",
       "      <td>The Way Back</td>\n",
       "      <td>(2020)</td>\n",
       "      <td>7.2</td>\n",
       "      <td>68</td>\n",
       "      <td>1586</td>\n",
       "    </tr>\n",
       "    <tr>\n",
       "      <th>16</th>\n",
       "      <td>Once Upon a Time... in Hollywood</td>\n",
       "      <td>(2019)</td>\n",
       "      <td>7.7</td>\n",
       "      <td>83</td>\n",
       "      <td>403753</td>\n",
       "    </tr>\n",
       "    <tr>\n",
       "      <th>17</th>\n",
       "      <td>The Call of the Wild</td>\n",
       "      <td>(2020)</td>\n",
       "      <td>6.9</td>\n",
       "      <td>47</td>\n",
       "      <td>6446</td>\n",
       "    </tr>\n",
       "    <tr>\n",
       "      <th>18</th>\n",
       "      <td>Joker</td>\n",
       "      <td>(2019)</td>\n",
       "      <td>8.6</td>\n",
       "      <td>59</td>\n",
       "      <td>706835</td>\n",
       "    </tr>\n",
       "    <tr>\n",
       "      <th>19</th>\n",
       "      <td>Little Women</td>\n",
       "      <td>(2019)</td>\n",
       "      <td>8.0</td>\n",
       "      <td>91</td>\n",
       "      <td>70611</td>\n",
       "    </tr>\n",
       "    <tr>\n",
       "      <th>20</th>\n",
       "      <td>Frozen 2</td>\n",
       "      <td>(2019)</td>\n",
       "      <td>7.0</td>\n",
       "      <td>64</td>\n",
       "      <td>81305</td>\n",
       "    </tr>\n",
       "    <tr>\n",
       "      <th>21</th>\n",
       "      <td>Ford v. Ferrari</td>\n",
       "      <td>(2019)</td>\n",
       "      <td>8.1</td>\n",
       "      <td>81</td>\n",
       "      <td>161988</td>\n",
       "    </tr>\n",
       "    <tr>\n",
       "      <th>22</th>\n",
       "      <td>Bombshell</td>\n",
       "      <td>(2019)</td>\n",
       "      <td>6.8</td>\n",
       "      <td>64</td>\n",
       "      <td>39318</td>\n",
       "    </tr>\n",
       "    <tr>\n",
       "      <th>23</th>\n",
       "      <td>The Last Thing He Wanted</td>\n",
       "      <td>(2020)</td>\n",
       "      <td>4.3</td>\n",
       "      <td>35</td>\n",
       "      <td>6304</td>\n",
       "    </tr>\n",
       "    <tr>\n",
       "      <th>24</th>\n",
       "      <td>Dark Waters</td>\n",
       "      <td>(2019)</td>\n",
       "      <td>7.6</td>\n",
       "      <td>73</td>\n",
       "      <td>21562</td>\n",
       "    </tr>\n",
       "    <tr>\n",
       "      <th>25</th>\n",
       "      <td>Midsommar</td>\n",
       "      <td>(2019)</td>\n",
       "      <td>7.1</td>\n",
       "      <td>72</td>\n",
       "      <td>124662</td>\n",
       "    </tr>\n",
       "    <tr>\n",
       "      <th>26</th>\n",
       "      <td>Midway</td>\n",
       "      <td>(2019)</td>\n",
       "      <td>6.7</td>\n",
       "      <td>47</td>\n",
       "      <td>33439</td>\n",
       "    </tr>\n",
       "    <tr>\n",
       "      <th>27</th>\n",
       "      <td>Doctor Sleep</td>\n",
       "      <td>(2019)</td>\n",
       "      <td>7.4</td>\n",
       "      <td>59</td>\n",
       "      <td>82107</td>\n",
       "    </tr>\n",
       "    <tr>\n",
       "      <th>28</th>\n",
       "      <td>Fantasy Island</td>\n",
       "      <td>(2020)</td>\n",
       "      <td>4.6</td>\n",
       "      <td>22</td>\n",
       "      <td>5626</td>\n",
       "    </tr>\n",
       "    <tr>\n",
       "      <th>29</th>\n",
       "      <td>Anna</td>\n",
       "      <td>(II) (2019)</td>\n",
       "      <td>6.6</td>\n",
       "      <td>40</td>\n",
       "      <td>41980</td>\n",
       "    </tr>\n",
       "  </tbody>\n",
       "</table>\n",
       "</div>"
      ],
      "text/plain": [
       "                                                movie         year  imdb  \\\n",
       "0                                   The Invisible Man       (2020)   7.5   \n",
       "1                                          Knives Out       (2019)   8.0   \n",
       "2                                        Gisaengchung       (2019)   8.6   \n",
       "3                                Spenser Confidential       (2020)   6.3   \n",
       "4                                              Onward   (I) (2020)   7.7   \n",
       "5                                  Sonic the Hedgehog       (2020)   6.7   \n",
       "6                                         Guns Akimbo       (2019)   6.5   \n",
       "7   Birds of Prey: And the Fantabulous Emancipatio...       (2020)   6.5   \n",
       "8                                         Jojo Rabbit       (2019)   8.0   \n",
       "9                                               Emma.       (2020)   7.0   \n",
       "10                              All the Bright Places       (2020)   6.5   \n",
       "11                                      The Gentlemen       (2020)   8.1   \n",
       "12                            Jumanji: The Next Level       (2019)   6.8   \n",
       "13                                               1917       (2019)   8.4   \n",
       "14                                         Uncut Gems       (2019)   7.6   \n",
       "15                                       The Way Back       (2020)   7.2   \n",
       "16                   Once Upon a Time... in Hollywood       (2019)   7.7   \n",
       "17                               The Call of the Wild       (2020)   6.9   \n",
       "18                                              Joker       (2019)   8.6   \n",
       "19                                       Little Women       (2019)   8.0   \n",
       "20                                           Frozen 2       (2019)   7.0   \n",
       "21                                    Ford v. Ferrari       (2019)   8.1   \n",
       "22                                          Bombshell       (2019)   6.8   \n",
       "23                           The Last Thing He Wanted       (2020)   4.3   \n",
       "24                                        Dark Waters       (2019)   7.6   \n",
       "25                                          Midsommar       (2019)   7.1   \n",
       "26                                             Midway       (2019)   6.7   \n",
       "27                                       Doctor Sleep       (2019)   7.4   \n",
       "28                                     Fantasy Island       (2020)   4.6   \n",
       "29                                               Anna  (II) (2019)   6.6   \n",
       "\n",
       "    metascore   votes  \n",
       "0          71   24082  \n",
       "1          82  213659  \n",
       "2          96  303555  \n",
       "3          48   13140  \n",
       "4          61    7729  \n",
       "5          47   27746  \n",
       "6          45    9029  \n",
       "7          60   58668  \n",
       "8          58  155541  \n",
       "9          71    4138  \n",
       "10         61    6570  \n",
       "11         51   49290  \n",
       "12         58   99349  \n",
       "13         78  211061  \n",
       "14         90  117077  \n",
       "15         68    1586  \n",
       "16         83  403753  \n",
       "17         47    6446  \n",
       "18         59  706835  \n",
       "19         91   70611  \n",
       "20         64   81305  \n",
       "21         81  161988  \n",
       "22         64   39318  \n",
       "23         35    6304  \n",
       "24         73   21562  \n",
       "25         72  124662  \n",
       "26         47   33439  \n",
       "27         59   82107  \n",
       "28         22    5626  \n",
       "29         40   41980  "
      ]
     },
     "execution_count": 63,
     "metadata": {},
     "output_type": "execute_result"
    }
   ],
   "source": [
    "import pandas as pd\n",
    "\n",
    "data = pd.DataFrame({'movie': names,\n",
    "'year': years,\n",
    "'imdb': imdb_ratings,\n",
    "'metascore': metascores,\n",
    "'votes': votes\n",
    "})\n",
    "data"
   ]
  },
  {
   "cell_type": "code",
   "execution_count": null,
   "metadata": {},
   "outputs": [],
   "source": []
  }
 ],
 "metadata": {
  "kernelspec": {
   "display_name": "Python 3",
   "language": "python",
   "name": "python3"
  },
  "language_info": {
   "codemirror_mode": {
    "name": "ipython",
    "version": 3
   },
   "file_extension": ".py",
   "mimetype": "text/x-python",
   "name": "python",
   "nbconvert_exporter": "python",
   "pygments_lexer": "ipython3",
   "version": "3.8.1"
  }
 },
 "nbformat": 4,
 "nbformat_minor": 4
}
